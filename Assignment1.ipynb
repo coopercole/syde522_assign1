{
 "cells": [
  {
   "cell_type": "markdown",
   "metadata": {
    "id": "DgGc4qaTjPrU"
   },
   "source": [
    "Welcome to aasignment 1.                                                       \n",
    "\n",
    "We are using pathology images for our first assignment please download data from this link https://drive.google.com/drive/folders/10dUOzcPR-PQwfFYcHk5gsLjIjSorQ32Q?usp=sharing"
   ]
  },
  {
   "cell_type": "markdown",
   "metadata": {
    "id": "4s4K2S-dhTnF"
   },
   "source": [
    "\n",
    "\n",
    "### Task 1: Feature Generation (15%)\n",
    "Use and run the following code (a deep network) to generate features from a set of training images. For this assignment, you do not need to know how the deep network is working here to extract features.\n",
    "This code extracts the features of image T4.tif (in the T folder of dataset). Modify the code so that it iterates over all images of the dataset and extracts their features.\n",
    "Allocate 10% of the data for validation.\n",
    "\n",
    "Insert your code here for Task 1\n",
    "\n",
    "\n",
    "\n"
   ]
  },
  {
   "cell_type": "code",
   "execution_count": 2,
   "metadata": {
    "id": "94c_H8Yv7IDs"
   },
   "outputs": [
    {
     "name": "stderr",
     "output_type": "stream",
     "text": [
      "c:\\Users\\Cooper\\miniconda3\\envs\\syde522\\Lib\\site-packages\\torchvision\\models\\_utils.py:208: UserWarning: The parameter 'pretrained' is deprecated since 0.13 and may be removed in the future, please use 'weights' instead.\n",
      "  warnings.warn(\n",
      "c:\\Users\\Cooper\\miniconda3\\envs\\syde522\\Lib\\site-packages\\torchvision\\models\\_utils.py:223: UserWarning: Arguments other than a weight enum or `None` for 'weights' are deprecated since 0.13 and may be removed in the future. The current behavior is equivalent to passing `weights=DenseNet121_Weights.IMAGENET1K_V1`. You can also use `weights=DenseNet121_Weights.DEFAULT` to get the most up-to-date weights.\n",
      "  warnings.warn(msg)\n"
     ]
    }
   ],
   "source": [
    "import torch\n",
    "import torchvision.transforms as transforms\n",
    "from torchvision.models import densenet121\n",
    "from torch.autograd import Variable\n",
    "from PIL import Image\n",
    "import os\n",
    "import numpy as np\n",
    "# Load pre-trained DenseNet model\n",
    "model = densenet121(pretrained=True)\n",
    "\n",
    "# Remove the classification layer (last fully connected layer)\n",
    "model = torch.nn.Sequential(*list(model.children())[:-1])\n",
    "\n",
    "# Add a global average pooling layer\n",
    "model.add_module('global_avg_pool', torch.nn.AdaptiveAvgPool2d(1))\n",
    "\n",
    "# Set the model to evaluation mode\n",
    "model.eval()\n",
    "\n",
    "# Define the image preprocessing pipeline\n",
    "preprocess = transforms.Compose([\n",
    "    transforms.Resize(256),\n",
    "    transforms.CenterCrop(224),\n",
    "    transforms.ToTensor(),\n",
    "    transforms.Normalize(mean=[0.485, 0.456, 0.406], std=[0.229, 0.224, 0.225]),\n",
    "])\n",
    "\n",
    "# Path to the \"train\" folder\n",
    "train_folder = \"train\"\n",
    "\n",
    "train_labels = []\n",
    "train_feature_vectors = []\n",
    "\n",
    "\n",
    "# Iterate over all the folders and files in the \"train\" folder\n",
    "for root, dirs, files in os.walk(train_folder):\n",
    "    for file in files:\n",
    "        # Get the image path\n",
    "        image_path = os.path.join(root, file)\n",
    "        \n",
    "        # Load an image \n",
    "        image = Image.open(image_path)\n",
    "\n",
    "        # get class label from root\n",
    "        label = root.split(\"\\\\\")[1]\n",
    "        train_labels.append(float((ord(label) - ord('A')))) # convert chars into numbers where A -> 0\n",
    "\n",
    "        # Preprocess the image\n",
    "        input_tensor = preprocess(image)\n",
    "        input_batch = input_tensor.unsqueeze(0)  # Add a batch dimension\n",
    "\n",
    "        # Wrap the input tensor in a Variable\n",
    "        input_var = Variable(input_batch)\n",
    "\n",
    "        # Forward pass through the model\n",
    "        features = model(input_var)\n",
    "\n",
    "        # Extract the feature tensor\n",
    "        feature_vector = features.squeeze().detach().numpy()\n",
    "        train_feature_vectors.append(feature_vector)\n",
    "\n",
    "train_feature_vectors = np.array(train_feature_vectors)\n",
    "train_labels = np.array(train_labels)\n"
   ]
  },
  {
   "cell_type": "markdown",
   "metadata": {},
   "source": [
    "# Task 1 Cont'd\n",
    "Validation Data"
   ]
  },
  {
   "cell_type": "code",
   "execution_count": 3,
   "metadata": {},
   "outputs": [],
   "source": [
    "import os\n",
    "# Path to the \"validate\" folder\n",
    "validate_folder = \"validate\"\n",
    "\n",
    "# Initialize empty lists for the validation data\n",
    "validate_feature_vectors = []\n",
    "validate_labels = []\n",
    "\n",
    "# Iterate over all the folders and files in the \"validate\" folder\n",
    "for root, dirs, files in os.walk(validate_folder):\n",
    "    for file in files:\n",
    "        # Get the image path\n",
    "        image_path = os.path.join(root, file)\n",
    "        \n",
    "        # Load an image \n",
    "        image = Image.open(image_path)\n",
    "\n",
    "\n",
    "        # Preprocess the image\n",
    "        input_tensor = preprocess(image)\n",
    "        input_batch = input_tensor.unsqueeze(0)  # Add a batch dimension\n",
    "\n",
    "        # Wrap the input tensor in a Variable\n",
    "        input_var = Variable(input_batch)\n",
    "\n",
    "        # Forward pass through the model\n",
    "        features = model(input_var)\n",
    "\n",
    "        # Extract the feature tensor\n",
    "        feature_vector = features.squeeze().detach().numpy()\n",
    "\n",
    "        # Append the feature vector and label to the validation lists\n",
    "        validate_feature_vectors.append(feature_vector)\n",
    "        \n",
    "        # get class label from root\n",
    "        label = root.split(\"\\\\\")[1]\n",
    "        validate_labels.append(float((ord(label) - ord('A')))) # convert chars into numbers where A -> 0\n",
    "\n",
    "validate_feature_vectors = np.array(validate_feature_vectors)\n",
    "validate_labels = np.array(validate_labels)"
   ]
  },
  {
   "cell_type": "markdown",
   "metadata": {
    "id": "2DguMbSShmHT"
   },
   "source": [
    "# Task 2: High Bias Classification Method (5%)\n",
    "Choose a classification method and let is have a high bias.\n",
    "Train it on the generated features and discuss why it is underfitting.\n",
    "\n",
    "Insert your code here for Task 2\n",
    "\n",
    "\n"
   ]
  },
  {
   "cell_type": "code",
   "execution_count": 4,
   "metadata": {
    "id": "xG7aIh1lhpW3"
   },
   "outputs": [
    {
     "name": "stdout",
     "output_type": "stream",
     "text": [
      "Accuracy: -0.008241702634152137\n"
     ]
    },
    {
     "data": {
      "image/png": "[encoded data removed]",
      "text/plain": [
       "<Figure size 640x480 with 1 Axes>"
      ]
     },
     "metadata": {},
     "output_type": "display_data"
    }
   ],
   "source": [
    "from sklearn.linear_model import LinearRegression\n",
    "from sklearn.model_selection import train_test_split\n",
    "import matplotlib.pyplot as plt\n",
    "\n",
    "# Split the data into training and validation sets and only select first feature for high bias\n",
    "biased_X_train = train_feature_vectors[:, :1]\n",
    "y_train = train_labels\n",
    "biased_X_val = validate_feature_vectors[:, :1]\n",
    "y_val = validate_labels\n",
    "\n",
    "# Create a linear regression model with high bias\n",
    "clf = LinearRegression()\n",
    "\n",
    "# Train the model on the training data\n",
    "clf.fit(biased_X_train, y_train)\n",
    "\n",
    "# prediction for plotting\n",
    "pred_values = clf.predict(biased_X_val) \n",
    "\n",
    "# Evaluate the model on the validation data\n",
    "accuracy = clf.score(biased_X_val, y_val)\n",
    "print(\"Accuracy:\", accuracy)\n",
    "\n",
    "plt.scatter(biased_X_val, y_val, color=\"black\")\n",
    "plt.plot(biased_X_val, pred_values, color=\"blue\", linewidth=3)\n",
    "\n",
    "plt.show()\n"
   ]
  },
  {
   "cell_type": "markdown",
   "metadata": {
    "id": "kR8MxxoGhpxF"
   },
   "source": [
    "# Task 3: High Variance Classification Method (5%)\n",
    "Use the chosen classification method and let it have a high variance.\n",
    "Train it on the generated features and discuss why it is overfitting.\n",
    "\n",
    "Insert your code here for Task 3\n",
    "\n",
    "\n"
   ]
  },
  {
   "cell_type": "code",
   "execution_count": 31,
   "metadata": {
    "id": "TrsSDN_7huYB"
   },
   "outputs": [
    {
     "name": "stdout",
     "output_type": "stream",
     "text": [
      "Accuracy: 0.874467652541836\n"
     ]
    },
    {
     "ename": "ValueError",
     "evalue": "x and y must be the same size",
     "output_type": "error",
     "traceback": [
      "\u001b[1;31m---------------------------------------------------------------------------\u001b[0m",
      "\u001b[1;31mValueError\u001b[0m                                Traceback (most recent call last)",
      "Cell \u001b[1;32mIn[31], line 22\u001b[0m\n\u001b[0;32m     19\u001b[0m accuracy \u001b[38;5;241m=\u001b[39m clf\u001b[38;5;241m.\u001b[39mscore(X_val_expanded, y_val)\n\u001b[0;32m     20\u001b[0m \u001b[38;5;28mprint\u001b[39m(\u001b[38;5;124m\"\u001b[39m\u001b[38;5;124mAccuracy:\u001b[39m\u001b[38;5;124m\"\u001b[39m, accuracy)\n\u001b[1;32m---> 22\u001b[0m \u001b[43mplt\u001b[49m\u001b[38;5;241;43m.\u001b[39;49m\u001b[43mscatter\u001b[49m\u001b[43m(\u001b[49m\u001b[43mvalidate_feature_vectors\u001b[49m\u001b[43m,\u001b[49m\u001b[43m \u001b[49m\u001b[43my_val\u001b[49m\u001b[43m,\u001b[49m\u001b[43m \u001b[49m\u001b[43mcolor\u001b[49m\u001b[38;5;241;43m=\u001b[39;49m\u001b[38;5;124;43m\"\u001b[39;49m\u001b[38;5;124;43mblack\u001b[39;49m\u001b[38;5;124;43m\"\u001b[39;49m\u001b[43m)\u001b[49m\n\u001b[0;32m     23\u001b[0m plt\u001b[38;5;241m.\u001b[39mplot(validate_feature_vectors, train_pred, color\u001b[38;5;241m=\u001b[39m\u001b[38;5;124m\"\u001b[39m\u001b[38;5;124mblue\u001b[39m\u001b[38;5;124m\"\u001b[39m, linewidth\u001b[38;5;241m=\u001b[39m\u001b[38;5;241m3\u001b[39m)\n\u001b[0;32m     25\u001b[0m plt\u001b[38;5;241m.\u001b[39mshow()\n",
      "File \u001b[1;32m~\\Anaconda3\\envs\\torch_env\\lib\\site-packages\\matplotlib\\pyplot.py:3687\u001b[0m, in \u001b[0;36mscatter\u001b[1;34m(x, y, s, c, marker, cmap, norm, vmin, vmax, alpha, linewidths, edgecolors, plotnonfinite, data, **kwargs)\u001b[0m\n\u001b[0;32m   3668\u001b[0m \u001b[38;5;129m@_copy_docstring_and_deprecators\u001b[39m(Axes\u001b[38;5;241m.\u001b[39mscatter)\n\u001b[0;32m   3669\u001b[0m \u001b[38;5;28;01mdef\u001b[39;00m \u001b[38;5;21mscatter\u001b[39m(\n\u001b[0;32m   3670\u001b[0m     x: \u001b[38;5;28mfloat\u001b[39m \u001b[38;5;241m|\u001b[39m ArrayLike,\n\u001b[1;32m   (...)\u001b[0m\n\u001b[0;32m   3685\u001b[0m     \u001b[38;5;241m*\u001b[39m\u001b[38;5;241m*\u001b[39mkwargs,\n\u001b[0;32m   3686\u001b[0m ) \u001b[38;5;241m-\u001b[39m\u001b[38;5;241m>\u001b[39m PathCollection:\n\u001b[1;32m-> 3687\u001b[0m     __ret \u001b[38;5;241m=\u001b[39m gca()\u001b[38;5;241m.\u001b[39mscatter(\n\u001b[0;32m   3688\u001b[0m         x,\n\u001b[0;32m   3689\u001b[0m         y,\n\u001b[0;32m   3690\u001b[0m         s\u001b[38;5;241m=\u001b[39ms,\n\u001b[0;32m   3691\u001b[0m         c\u001b[38;5;241m=\u001b[39mc,\n\u001b[0;32m   3692\u001b[0m         marker\u001b[38;5;241m=\u001b[39mmarker,\n\u001b[0;32m   3693\u001b[0m         cmap\u001b[38;5;241m=\u001b[39mcmap,\n\u001b[0;32m   3694\u001b[0m         norm\u001b[38;5;241m=\u001b[39mnorm,\n\u001b[0;32m   3695\u001b[0m         vmin\u001b[38;5;241m=\u001b[39mvmin,\n\u001b[0;32m   3696\u001b[0m         vmax\u001b[38;5;241m=\u001b[39mvmax,\n\u001b[0;32m   3697\u001b[0m         alpha\u001b[38;5;241m=\u001b[39malpha,\n\u001b[0;32m   3698\u001b[0m         linewidths\u001b[38;5;241m=\u001b[39mlinewidths,\n\u001b[0;32m   3699\u001b[0m         edgecolors\u001b[38;5;241m=\u001b[39medgecolors,\n\u001b[0;32m   3700\u001b[0m         plotnonfinite\u001b[38;5;241m=\u001b[39mplotnonfinite,\n\u001b[0;32m   3701\u001b[0m         \u001b[38;5;241m*\u001b[39m\u001b[38;5;241m*\u001b[39m({\u001b[38;5;124m\"\u001b[39m\u001b[38;5;124mdata\u001b[39m\u001b[38;5;124m\"\u001b[39m: data} \u001b[38;5;28;01mif\u001b[39;00m data \u001b[38;5;129;01mis\u001b[39;00m \u001b[38;5;129;01mnot\u001b[39;00m \u001b[38;5;28;01mNone\u001b[39;00m \u001b[38;5;28;01melse\u001b[39;00m {}),\n\u001b[0;32m   3702\u001b[0m         \u001b[38;5;241m*\u001b[39m\u001b[38;5;241m*\u001b[39mkwargs,\n\u001b[0;32m   3703\u001b[0m     )\n\u001b[0;32m   3704\u001b[0m     sci(__ret)\n\u001b[0;32m   3705\u001b[0m     \u001b[38;5;28;01mreturn\u001b[39;00m __ret\n",
      "File \u001b[1;32m~\\Anaconda3\\envs\\torch_env\\lib\\site-packages\\matplotlib\\__init__.py:1465\u001b[0m, in \u001b[0;36m_preprocess_data.<locals>.inner\u001b[1;34m(ax, data, *args, **kwargs)\u001b[0m\n\u001b[0;32m   1462\u001b[0m \u001b[38;5;129m@functools\u001b[39m\u001b[38;5;241m.\u001b[39mwraps(func)\n\u001b[0;32m   1463\u001b[0m \u001b[38;5;28;01mdef\u001b[39;00m \u001b[38;5;21minner\u001b[39m(ax, \u001b[38;5;241m*\u001b[39margs, data\u001b[38;5;241m=\u001b[39m\u001b[38;5;28;01mNone\u001b[39;00m, \u001b[38;5;241m*\u001b[39m\u001b[38;5;241m*\u001b[39mkwargs):\n\u001b[0;32m   1464\u001b[0m     \u001b[38;5;28;01mif\u001b[39;00m data \u001b[38;5;129;01mis\u001b[39;00m \u001b[38;5;28;01mNone\u001b[39;00m:\n\u001b[1;32m-> 1465\u001b[0m         \u001b[38;5;28;01mreturn\u001b[39;00m func(ax, \u001b[38;5;241m*\u001b[39m\u001b[38;5;28mmap\u001b[39m(sanitize_sequence, args), \u001b[38;5;241m*\u001b[39m\u001b[38;5;241m*\u001b[39mkwargs)\n\u001b[0;32m   1467\u001b[0m     bound \u001b[38;5;241m=\u001b[39m new_sig\u001b[38;5;241m.\u001b[39mbind(ax, \u001b[38;5;241m*\u001b[39margs, \u001b[38;5;241m*\u001b[39m\u001b[38;5;241m*\u001b[39mkwargs)\n\u001b[0;32m   1468\u001b[0m     auto_label \u001b[38;5;241m=\u001b[39m (bound\u001b[38;5;241m.\u001b[39marguments\u001b[38;5;241m.\u001b[39mget(label_namer)\n\u001b[0;32m   1469\u001b[0m                   \u001b[38;5;129;01mor\u001b[39;00m bound\u001b[38;5;241m.\u001b[39mkwargs\u001b[38;5;241m.\u001b[39mget(label_namer))\n",
      "File \u001b[1;32m~\\Anaconda3\\envs\\torch_env\\lib\\site-packages\\matplotlib\\axes\\_axes.py:4652\u001b[0m, in \u001b[0;36mAxes.scatter\u001b[1;34m(self, x, y, s, c, marker, cmap, norm, vmin, vmax, alpha, linewidths, edgecolors, plotnonfinite, **kwargs)\u001b[0m\n\u001b[0;32m   4650\u001b[0m y \u001b[38;5;241m=\u001b[39m np\u001b[38;5;241m.\u001b[39mma\u001b[38;5;241m.\u001b[39mravel(y)\n\u001b[0;32m   4651\u001b[0m \u001b[38;5;28;01mif\u001b[39;00m x\u001b[38;5;241m.\u001b[39msize \u001b[38;5;241m!=\u001b[39m y\u001b[38;5;241m.\u001b[39msize:\n\u001b[1;32m-> 4652\u001b[0m     \u001b[38;5;28;01mraise\u001b[39;00m \u001b[38;5;167;01mValueError\u001b[39;00m(\u001b[38;5;124m\"\u001b[39m\u001b[38;5;124mx and y must be the same size\u001b[39m\u001b[38;5;124m\"\u001b[39m)\n\u001b[0;32m   4654\u001b[0m \u001b[38;5;28;01mif\u001b[39;00m s \u001b[38;5;129;01mis\u001b[39;00m \u001b[38;5;28;01mNone\u001b[39;00m:\n\u001b[0;32m   4655\u001b[0m     s \u001b[38;5;241m=\u001b[39m (\u001b[38;5;241m20\u001b[39m \u001b[38;5;28;01mif\u001b[39;00m mpl\u001b[38;5;241m.\u001b[39mrcParams[\u001b[38;5;124m'\u001b[39m\u001b[38;5;124m_internal.classic_mode\u001b[39m\u001b[38;5;124m'\u001b[39m] \u001b[38;5;28;01melse\u001b[39;00m\n\u001b[0;32m   4656\u001b[0m          mpl\u001b[38;5;241m.\u001b[39mrcParams[\u001b[38;5;124m'\u001b[39m\u001b[38;5;124mlines.markersize\u001b[39m\u001b[38;5;124m'\u001b[39m] \u001b[38;5;241m*\u001b[39m\u001b[38;5;241m*\u001b[39m \u001b[38;5;241m2.0\u001b[39m)\n",
      "\u001b[1;31mValueError\u001b[0m: x and y must be the same size"
     ]
    },
    {
     "data": {
      "image/png": "[encoded data removed]",
      "text/plain": [
       "<Figure size 640x480 with 1 Axes>"
      ]
     },
     "metadata": {},
     "output_type": "display_data"
    }
   ],
   "source": [
    "from sklearn.preprocessing import PolynomialFeatures\n",
    "\n",
    "# Generate polynomial features up to a higher degree\n",
    "poly = PolynomialFeatures(degree=2) # Higher degree polynomial\n",
    "\n",
    "X_train_expanded = poly.fit_transform(train_feature_vectors)\n",
    "X_val_expanded = poly.transform(validate_feature_vectors)\n",
    "\n",
    "# Create a linear regression model with high variance\n",
    "clf = LinearRegression()\n",
    "\n",
    "# Train the model on the training data\n",
    "clf.fit(X_train_expanded, y_train)\n",
    "\n",
    "# prediction for plotting\n",
    "train_pred = clf.predict(X_val_expanded)\n",
    "\n",
    "# Evaluate the model on the validation data\n",
    "accuracy = clf.score(X_val_expanded, y_val)\n",
    "print(\"Accuracy:\", accuracy)\n",
    "\n",
    "plt.scatter(validate_feature_vectors, y_val, color=\"black\")\n",
    "plt.plot(validate_feature_vectors, train_pred, color=\"blue\", linewidth=3)\n",
    "\n",
    "plt.show()"
   ]
  },
  {
   "cell_type": "markdown",
   "metadata": {
    "id": "yzxSVPWXht-m"
   },
   "source": [
    "# Task 4: Balanced Classification Method (15%)\n",
    "Use the chosen classification method and let it balance the bias and variance.\n",
    "Train it on the generated features, possibly adjusting parameters.\n",
    "Discuss insights into achieving balance.\n",
    "\n",
    "Insert your code here for Task 4\n",
    "\n",
    "\n"
   ]
  },
  {
   "cell_type": "code",
   "execution_count": null,
   "metadata": {
    "id": "hjgmSxk7h7vZ"
   },
   "outputs": [],
   "source": []
  },
  {
   "cell_type": "markdown",
   "metadata": {
    "id": "ZKRG3PfFh8Ot"
   },
   "source": [
    "# Task 5: K-Means Clustering (20%)\n",
    "Apply K-Means clustering on the generated features.\n",
    "Test with available labels and report accuracy.\n",
    "Experiment with automated K and compare with manually set 20 clusters.\n",
    "\n",
    "Insert your code here for Task 5\n",
    "\n",
    "\n"
   ]
  },
  {
   "cell_type": "code",
   "execution_count": 6,
   "metadata": {
    "id": "VLuOkJyAh-mN"
   },
   "outputs": [
    {
     "data": {
      "image/png": "[encoded data removed]",
      "text/plain": [
       "<Figure size 640x480 with 1 Axes>"
      ]
     },
     "metadata": {},
     "output_type": "display_data"
    },
    {
     "name": "stdout",
     "output_type": "stream",
     "text": [
      "Manual Accuracy: 0.04027777777777778\n",
      "Auto Accuracy: 0.10138888888888889\n"
     ]
    }
   ],
   "source": [
    "from sklearn.cluster import KMeans\n",
    "from sklearn.metrics import accuracy_score\n",
    "import os\n",
    "import matplotlib.pyplot as plt\n",
    "\n",
    "os.environ['OMP_NUM_THREADS'] = '3'\n",
    "\n",
    "## Manual select k\n",
    "# Set the number of clusters\n",
    "k_manual = 20\n",
    "\n",
    "# Create a KMeans object\n",
    "kmeans_manual = KMeans(n_clusters=k_manual)\n",
    "\n",
    "# Fit the KMeans model to the training data\n",
    "kmeans_manual.fit(train_feature_vectors)\n",
    "\n",
    "# Get the cluster labels for each data point\n",
    "train_kmeansManualCluster_labels = kmeans_manual.labels_\n",
    "\n",
    "## Auto select k\n",
    "# Define a range of possible values for k\n",
    "k_values_auto = range(2, 21)\n",
    "\n",
    "# Initialize an empty list to store the inertia values\n",
    "inertia_values = []\n",
    "\n",
    "# Iterate over each value of k\n",
    "for k in k_values_auto:\n",
    "    # Create a KMeans object\n",
    "    kmeans_auto = KMeans(n_clusters=k)\n",
    "    \n",
    "    # Fit the KMeans model to the training data\n",
    "    kmeans_auto.fit(train_feature_vectors)\n",
    "    \n",
    "    # Get the inertia value (sum of squared distances to the nearest centroid) for the model\n",
    "    inertia = kmeans_auto.inertia_\n",
    "    \n",
    "    # Append the inertia value to the list\n",
    "    inertia_values.append(inertia)\n",
    "\n",
    "# Plot the inertia values against the number of clusters\n",
    "plt.plot(k_values_auto, inertia_values, marker='o')\n",
    "plt.xlabel('Number of Clusters (k)')\n",
    "plt.ylabel('Inertia')\n",
    "plt.title('Elbow Method')\n",
    "plt.show()\n",
    "\n",
    "# Select the elbow point as the best value for k\n",
    "k_auto = 10\n",
    "# Create a KMeans object\n",
    "kmeans_auto = KMeans(n_clusters=k_auto)\n",
    "# Fit the KMeans model to the training data\n",
    "kmeans_auto.fit(train_feature_vectors)\n",
    "# Get the cluster labels for each data point\n",
    "train_kmeansAutoCluster_labels = kmeans_auto.labels_\n",
    "\n",
    "\n",
    "# Calculate the accuracies\n",
    "accuracy_manual = accuracy_score(train_labels, train_kmeansManualCluster_labels)\n",
    "accuracy_auto = accuracy_score(train_labels, train_kmeansAutoCluster_labels)\n",
    "# Print the accuracies\n",
    "print(\"Manual Accuracy:\", accuracy_manual)\n",
    "print(\"Auto Accuracy:\", accuracy_auto)\n"
   ]
  },
  {
   "cell_type": "markdown",
   "metadata": {
    "id": "43sPfI7Jh-9p"
   },
   "source": [
    "# Task 6: Additional Clustering Algorithm (10%)\n",
    "Choose another clustering algorithm and apply it on the features.\n",
    "Test accuracy with available labels.\n",
    "\n",
    "Insert your code here for Task 6\n",
    "\n",
    "\n"
   ]
  },
  {
   "cell_type": "code",
   "execution_count": null,
   "metadata": {
    "id": "Nn9f41LWiCDr"
   },
   "outputs": [],
   "source": []
  },
  {
   "cell_type": "markdown",
   "metadata": {
    "id": "3fPfoBsaiCXu"
   },
   "source": [
    "# Task 7: PCA for Classification Improvement (20%)\n",
    "Apply PCA on the features and then feed them to the best classification method in the above tasks.\n",
    "Assess if PCA improves outcomes and discuss the results.\n",
    "\n",
    "Insert your code here for Task 7\n",
    "\n",
    "\n"
   ]
  },
  {
   "cell_type": "code",
   "execution_count": null,
   "metadata": {
    "id": "RoOFXhdmiHeD"
   },
   "outputs": [],
   "source": []
  },
  {
   "cell_type": "markdown",
   "metadata": {
    "id": "UQqNra7eiHx-"
   },
   "source": [
    "# Task 8: Visualization and Analysis (10%)\n",
    "Plot the features in a lower dimension using dimentinality reduction techniques.\n",
    "Analyze the visual representation, identifying patterns or insights.\n",
    "\n",
    "Insert your code here for Task 8"
   ]
  },
  {
   "cell_type": "code",
   "execution_count": null,
   "metadata": {
    "id": "1npTL_NkjNdL"
   },
   "outputs": [],
   "source": []
  }
 ],
 "metadata": {
  "colab": {
   "provenance": []
  },
  "kernelspec": {
   "display_name": "Python 3 (ipykernel)",
   "language": "python",
   "name": "python3"
  },
  "language_info": {
   "codemirror_mode": {
    "name": "ipython",
    "version": 3
   },
   "file_extension": ".py",
   "mimetype": "text/x-python",
   "name": "python",
   "nbconvert_exporter": "python",
   "pygments_lexer": "ipython3",
   "version": "3.11.7"
  }
 },
 "nbformat": 4,
 "nbformat_minor": 4
}
